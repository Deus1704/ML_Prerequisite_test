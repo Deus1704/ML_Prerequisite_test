{
 "cells": [
  {
   "cell_type": "markdown",
   "metadata": {},
   "source": [
    "# Prerequisite Test"
   ]
  },
  {
   "cell_type": "markdown",
   "metadata": {},
   "source": [
    "##### Q1: How many multiplications and additions do you need to perform a matrix multiplication between a (n, k) and (k, m) matrix? Explain.\n",
    "\n",
    "#### Answer: n* m* k multiplications and n* m* (k-1) additions.\n",
    "#### Explanation: Matrix multiplication involves taking the dot product of each row of the first matrix A with each column of the second matrix B. For each dot product, there are k multiplications. Since there are n rows in A and m columns in B, the total number of multiplications is n * m * k. Now, for each dot product, there are (k - 1) additions because the first element does not require an addition (i.e it is directly multiplied). Therefore, the total number of additions is n * m * (k - 1)."
   ]
  },
  {
   "cell_type": "markdown",
   "metadata": {},
   "source": [
    "#### Q2:Write Python code to multiply the above two matrices. Solve using list of lists and then use numpy. Compare the timing of both solutions. Which one is faster? Why?"
   ]
  },
  {
   "cell_type": "code",
   "execution_count": 1,
   "metadata": {},
   "outputs": [],
   "source": [
    "#For better visualisation of the matrices.\n",
    "def print_matrix(matrix):\n",
    "    for row in matrix:\n",
    "        print(' '.join(map(str, row)))"
   ]
  },
  {
   "cell_type": "code",
   "execution_count": 2,
   "metadata": {},
   "outputs": [
    {
     "name": "stdout",
     "output_type": "stream",
     "text": [
      "0.02149168839391158 0.39390815756146735 0.1868767514004721 0.005202891415382882 0.27528555352452755\n",
      "0.2602714414695222 0.3902076788058805 0.2898005759167128 0.009459383580585956 0.23017578646280434\n",
      "0.49973518615047574 0.5372360317445236 0.8412350114213507 0.645438553683509 0.4853678702345743\n",
      "------------------------------------------------------------------------------------------------------------------------------------------------------\n",
      "0.49646229349838755 0.5698408833023693 0.7716782850533204 0.04559232005719105 0.5483644850411462 0.577376774374844 0.9959607333300441\n",
      "0.7565728945315564 0.6446599677112705 0.5888492526811647 0.4669011349677443 0.26576061476157165 0.08521687657894805 0.481533468334834\n",
      "0.9350044932746053 0.48949550569183997 0.021303189658637645 0.2498009875755287 0.7200084733648066 0.7111617901648806 0.14134001280349384\n",
      "0.936048695231666 0.8723607294463706 0.10367761419817145 0.017849551608037917 0.299472888207971 0.773457332635176 0.9426781907684483\n",
      "0.3672858254026161 0.7773427959828186 0.8506669494643475 0.968166041515203 0.044852910615531094 0.47292781818016294 0.2716009836086136\n"
     ]
    }
   ],
   "source": [
    "import random\n",
    "import time\n",
    "def genmatrix(n,k):\n",
    "    matrix=[]\n",
    "    for _ in range(n):\n",
    "        row=[random.random() for _ in range(k)]\n",
    "        matrix.append(row)\n",
    "    return matrix\n",
    "\n",
    "n=3;k=5;m=7\n",
    "\n",
    "A=genmatrix(n,k);print_matrix(A)\n",
    "print(\"------\"*25)\n",
    "B=genmatrix(k,m);print_matrix(B)\n"
   ]
  },
  {
   "cell_type": "code",
   "execution_count": 3,
   "metadata": {},
   "outputs": [
    {
     "name": "stdout",
     "output_type": "stream",
     "text": [
      "0.589399291573542 0.5761890327824376 0.4872340097428661 0.4981930127500646 0.2649288804803339 0.31309044035426514 0.3171704808615978\n",
      "0.7887950977993807 0.7288981413602135 0.6335766567210787 0.48946448282051525 0.468241200720143 0.5057950233846352 0.559511734373377\n",
      "2.2235470666912645 1.9832373249249176 1.1997107511292306 0.9651990145315259 1.2375710519250092 1.6613344131006347 1.615581158440981\n",
      "The time taken by this method is: 0.00024962425231933594\n"
     ]
    }
   ],
   "source": [
    "# First matrix multiplication using the lists method;\n",
    "start_time=time.time()\n",
    "final_matrix=[]\n",
    "\n",
    "for i in range(n):\n",
    "    final_row=[]\n",
    "    for h in range(m):\n",
    "        summ=0\n",
    "        for j in range(k):\n",
    "            summ+=A[i][j]*B[j][h]\n",
    "        final_row.append(summ)\n",
    "    final_matrix.append(final_row)\n",
    "end_time=time.time()\n",
    "print_matrix(final_matrix)\n",
    "print(f\"The time taken by this method is: {end_time-start_time}\")"
   ]
  },
  {
   "cell_type": "code",
   "execution_count": null,
   "metadata": {},
   "outputs": [],
   "source": []
  }
 ],
 "metadata": {
  "kernelspec": {
   "display_name": "Python 3",
   "language": "python",
   "name": "python3"
  },
  "language_info": {
   "codemirror_mode": {
    "name": "ipython",
    "version": 3
   },
   "file_extension": ".py",
   "mimetype": "text/x-python",
   "name": "python",
   "nbconvert_exporter": "python",
   "pygments_lexer": "ipython3",
   "version": "3.10.12"
  }
 },
 "nbformat": 4,
 "nbformat_minor": 2
}
