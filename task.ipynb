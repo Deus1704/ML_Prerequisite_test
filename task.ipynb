{
 "cells": [
  {
   "cell_type": "markdown",
   "metadata": {},
   "source": [
    "# Prerequisite Test"
   ]
  },
  {
   "cell_type": "markdown",
   "metadata": {},
   "source": [
    "##### Q1: How many multiplications and additions do you need to perform a matrix multiplication between a (n, k) and (k, m) matrix? Explain.\n",
    "\n",
    "#### Answer: n*m*k multiplications and n*m*(k-1) additions.\n",
    "#### Explanation: Since matrix multiplication of two matrices A(n,k) and B(k,m) is represented as, For each entry $C_{ij} $ , the calculation is given by:\n",
    " $$ C_{ij} = \\sum_{l=1}^{k} A_{il} \\cdot B_{lj} $$\n",
    "###"
   ]
  },
  {
   "cell_type": "markdown",
   "metadata": {},
   "source": [
    "#### Q2:Write Python code to multiply the above two matrices. Solve using list of lists and then use numpy. Compare the timing of both solutions. Which one is faster? Why?"
   ]
  },
  {
   "cell_type": "code",
   "execution_count": 23,
   "metadata": {},
   "outputs": [],
   "source": [
    "#For better visualisation of the matrices.\n",
    "def print_matrix(matrix):\n",
    "    for row in matrix:\n",
    "        print(' '.join(map(str, row)))"
   ]
  },
  {
   "cell_type": "code",
   "execution_count": 34,
   "metadata": {},
   "outputs": [
    {
     "name": "stdout",
     "output_type": "stream",
     "text": [
      "0.7947870782285235 0.7242939044226977 0.5953653128491935 0.5235630522378439 0.1504242987772667\n",
      "0.1890673848730221 0.9971805759313058 0.5453692875330854 0.4015216759357887 0.5113317910100678\n",
      "0.12874319422136538 0.3822982280795134 0.17451414620841443 0.13746606211940837 0.42617867251931885\n",
      "------------------------------------------------------------------------------------------------------------------------------------------------------\n",
      "0.23077190888113552 0.42547006063480064 0.6228486720391867 0.9690524140964369 0.4500961772365989 0.35273231870320987 0.7878484855541641\n",
      "0.7792459486546386 0.45787819054156853 0.5181055256279241 0.011713534479778076 0.1570457045117497 0.7745098544215818 0.14933044876139223\n",
      "0.11698410807854398 0.39182410225107045 0.646353953977501 0.9215060692034234 0.35102136976646037 0.20387426266612174 0.9360895896503819\n",
      "0.6393476890751172 0.371784945203682 0.9719055785704468 0.17995949640576403 0.715352470330332 0.9415421989559006 0.6725476301637372\n",
      "0.4268313990499114 0.07507604028146764 0.0756366173873606 0.7579461083947377 0.21233605005538048 0.19054050136628853 0.33913065509166584\n"
     ]
    }
   ],
   "source": [
    "import random\n",
    "import time\n",
    "def genmatrix(n,k):\n",
    "    matrix=[]\n",
    "    for _ in range(n):\n",
    "        row=[random.random() for _ in range(k)]\n",
    "        matrix.append(row)\n",
    "    return matrix\n",
    "\n",
    "n=3;k=5;m=7\n",
    "\n",
    "A=genmatrix(n,k);print_matrix(A)\n",
    "print(\"------\"*25)\n",
    "B=genmatrix(k,m);print_matrix(B)\n"
   ]
  },
  {
   "cell_type": "code",
   "execution_count": 29,
   "metadata": {},
   "outputs": [
    {
     "name": "stdout",
     "output_type": "stream",
     "text": [
      "0.8332217069238442 0.9183379797622011 0.6651209809722413 0.6760294070855328 1.1858854120605844 1.149454992185556 0.9839390976839312\n",
      "1.468653224334437 2.0519292454577336 1.2653015905327294 1.8316733393161428 2.4826794511154233 2.368243130467027 1.6656944093174693\n",
      "0.3950878800451739 0.668205496002701 0.27779313066714756 0.5774464332014324 0.7055707200235622 0.6617437601602922 0.5007353883804515\n",
      "The time taken by this method is: 0.0002918243408203125\n"
     ]
    }
   ],
   "source": [
    "# First matrix multiplication using the lists method;\n",
    "start_time=time.time()\n",
    "final_matrix=[]\n",
    "\n",
    "for i in range(n):\n",
    "    final_row=[]\n",
    "    for h in range(m):\n",
    "        summ=0\n",
    "        for j in range(k):\n",
    "            summ+=A[i][j]*B[j][h]\n",
    "        final_row.append(summ)\n",
    "    final_matrix.append(final_row)\n",
    "end_time=time.time()\n",
    "print_matrix(final_matrix)\n",
    "print(f\"The time taken by this method is: {end_time-start_time}\")"
   ]
  },
  {
   "cell_type": "code",
   "execution_count": null,
   "metadata": {},
   "outputs": [],
   "source": []
  }
 ],
 "metadata": {
  "kernelspec": {
   "display_name": "Python 3",
   "language": "python",
   "name": "python3"
  },
  "language_info": {
   "codemirror_mode": {
    "name": "ipython",
    "version": 3
   },
   "file_extension": ".py",
   "mimetype": "text/x-python",
   "name": "python",
   "nbconvert_exporter": "python",
   "pygments_lexer": "ipython3",
   "version": "3.10.12"
  }
 },
 "nbformat": 4,
 "nbformat_minor": 2
}
